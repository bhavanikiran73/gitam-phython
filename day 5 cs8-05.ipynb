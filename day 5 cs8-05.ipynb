{
 "cells": [
  {
   "cell_type": "code",
   "execution_count": 1,
   "metadata": {},
   "outputs": [
    {
     "name": "stdout",
     "output_type": "stream",
     "text": [
      "hello\n"
     ]
    }
   ],
   "source": [
    "print(\"hello\")"
   ]
  },
  {
   "cell_type": "code",
   "execution_count": 3,
   "metadata": {},
   "outputs": [
    {
     "name": "stdout",
     "output_type": "stream",
     "text": [
      "10 hello b 10.3\n",
      "<class 'int'> <class 'str'> <class 'str'> <class 'float'>\n"
     ]
    }
   ],
   "source": [
    "n1=10\n",
    "s1=\"hello\"\n",
    "s2='b'\n",
    "s3=10.3\n",
    "print(n1,s1,s2,s3)\n",
    "print(type(n1),type(s1),type(s2),type(s3))"
   ]
  },
  {
   "cell_type": "code",
   "execution_count": 1,
   "metadata": {},
   "outputs": [
    {
     "name": "stdout",
     "output_type": "stream",
     "text": [
      "4\n"
     ]
    }
   ],
   "source": [
    "a1=1234\n",
    "print(len(str(a1)))\n"
   ]
  },
  {
   "cell_type": "code",
   "execution_count": 2,
   "metadata": {},
   "outputs": [
    {
     "name": "stdout",
     "output_type": "stream",
     "text": [
      "enter your namebhavanikiran\n",
      "bhavanikiran\n",
      "<class 'str'>\n"
     ]
    }
   ],
   "source": [
    "s1=input(\"enter your name\")\n",
    "print(s1)\n",
    "print(type(s1))"
   ]
  },
  {
   "cell_type": "code",
   "execution_count": 3,
   "metadata": {},
   "outputs": [
    {
     "name": "stdout",
     "output_type": "stream",
     "text": [
      "enter your number73\n",
      "73\n",
      "<class 'int'>\n"
     ]
    }
   ],
   "source": [
    "s1=int(input(\"enter your number\"))\n",
    "print(s1)\n",
    "print(type(s1))"
   ]
  },
  {
   "cell_type": "code",
   "execution_count": 5,
   "metadata": {},
   "outputs": [
    {
     "name": "stdout",
     "output_type": "stream",
     "text": [
      "50\n",
      "30\n",
      "400\n",
      "4.0\n",
      "0\n",
      "4\n",
      "10485760000000000\n"
     ]
    }
   ],
   "source": [
    "n1=40\n",
    "print(n1+10)\n",
    "print(n1-10)\n",
    "print(n1*10)\n",
    "print(n1/10)\n",
    "print(n1%10)\n",
    "print(n1//10)\n",
    "print(n1**10)"
   ]
  },
  {
   "cell_type": "code",
   "execution_count": 6,
   "metadata": {},
   "outputs": [
    {
     "name": "stdout",
     "output_type": "stream",
     "text": [
      "8.75\n"
     ]
    }
   ],
   "source": [
    "x=1+2+3/4+5\n",
    "print(x)"
   ]
  },
  {
   "cell_type": "code",
   "execution_count": 8,
   "metadata": {},
   "outputs": [
    {
     "name": "stdout",
     "output_type": "stream",
     "text": [
      "enter a number4\n",
      "even\n"
     ]
    }
   ],
   "source": [
    "a=int(input(\"enter a number\"))\n",
    "if a%2==0:\n",
    "      print(\"even\")\n",
    "else:\n",
    "      print(\"odd\")\n",
    "      "
   ]
  },
  {
   "cell_type": "code",
   "execution_count": 10,
   "metadata": {},
   "outputs": [
    {
     "name": "stdout",
     "output_type": "stream",
     "text": [
      "enter a number15\n",
      "yes\n"
     ]
    }
   ],
   "source": [
    "#perfect mult of 3 and 5\n",
    "n=int(input(\"enter a number\"))\n",
    "if n%5==0 and n%3==0:\n",
    "    print(\"yes\")\n",
    "else:\n",
    "    print(\"no\")\n",
    "    "
   ]
  },
  {
   "cell_type": "code",
   "execution_count": 12,
   "metadata": {},
   "outputs": [
    {
     "name": "stdout",
     "output_type": "stream",
     "text": [
      "enter a no.0\n",
      "0\n"
     ]
    }
   ],
   "source": [
    "#test giv no. is positive, neg or 0\n",
    "n=int(input(\"enter a no.\"))\n",
    "if n>0:\n",
    "    print(\"positive\")\n",
    "if n<0:\n",
    "    print(\"negative\")\n",
    "else:\n",
    "    print(\"0\")"
   ]
  },
  {
   "cell_type": "code",
   "execution_count": null,
   "metadata": {},
   "outputs": [],
   "source": []
  }
 ],
 "metadata": {
  "kernelspec": {
   "display_name": "Python 3",
   "language": "python",
   "name": "python3"
  },
  "language_info": {
   "codemirror_mode": {
    "name": "ipython",
    "version": 3
   },
   "file_extension": ".py",
   "mimetype": "text/x-python",
   "name": "python",
   "nbconvert_exporter": "python",
   "pygments_lexer": "ipython3",
   "version": "3.7.3"
  }
 },
 "nbformat": 4,
 "nbformat_minor": 2
}
