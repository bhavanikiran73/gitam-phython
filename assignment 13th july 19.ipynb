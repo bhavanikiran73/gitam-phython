{
 "cells": [
  {
   "cell_type": "code",
   "execution_count": 1,
   "metadata": {},
   "outputs": [],
   "source": [
    "# print large digit of given number"
   ]
  },
  {
   "cell_type": "code",
   "execution_count": 3,
   "metadata": {},
   "outputs": [
    {
     "name": "stdout",
     "output_type": "stream",
     "text": [
      "enter a digit1567969\n",
      "9\n"
     ]
    }
   ],
   "source": [
    "n=int(input(\"enter a digit\"))\n",
    "r=0\n",
    "l=0\n",
    "while n!=0:\n",
    "    r=n%10\n",
    "    if r>l:\n",
    "        l=r\n",
    "    n=n//10\n",
    "print(l)"
   ]
  },
  {
   "cell_type": "code",
   "execution_count": null,
   "metadata": {},
   "outputs": [],
   "source": [
    "# palindrome between two digits\n",
    "n1=int(input(\"enter initial limit\"))\n",
    "n2=int(input(\"enter final limit\"))\n",
    "s=0\n",
    "for i in range(n1,n2):\n",
    "   k=i\n",
    "   while i!=0:\n",
    "       r=i%10\n",
    "       s=s*10+r\n",
    "       i=i//10\n",
    "   if s==k:\n",
    "       l=l+1\n",
    "       print(l)"
   ]
  },
  {
   "cell_type": "code",
   "execution_count": null,
   "metadata": {},
   "outputs": [],
   "source": [
    "# email\n",
    "import re\n",
    "def email(n):\n",
    "   pattern='^[a-z0-9-_]{6,16}[@][a-z0-9]{3,10}[.][a-z]{2,4}$' \n",
    "\n",
    "   if re.match(pattern,n):\n",
    "       print(\"valid\")\n",
    "   else:\n",
    "       print(\"in valid\")\n",
    "   return\n",
    "n=input(\"enter email address\")\n",
    "email(n)\n"
   ]
  },
  {
   "cell_type": "code",
   "execution_count": null,
   "metadata": {},
   "outputs": [],
   "source": []
  },
  {
   "cell_type": "code",
   "execution_count": null,
   "metadata": {},
   "outputs": [],
   "source": []
  }
 ],
 "metadata": {
  "kernelspec": {
   "display_name": "Python 3",
   "language": "python",
   "name": "python3"
  },
  "language_info": {
   "codemirror_mode": {
    "name": "ipython",
    "version": 3
   },
   "file_extension": ".py",
   "mimetype": "text/x-python",
   "name": "python",
   "nbconvert_exporter": "python",
   "pygments_lexer": "ipython3",
   "version": "3.7.3"
  }
 },
 "nbformat": 4,
 "nbformat_minor": 2
}
