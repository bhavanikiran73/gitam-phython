{
 "cells": [
  {
   "cell_type": "code",
   "execution_count": 2,
   "metadata": {},
   "outputs": [
    {
     "name": "stdout",
     "output_type": "stream",
     "text": [
      "file is created and data is written\n"
     ]
    }
   ],
   "source": [
    "def createfile(filename):\n",
    "    f=open(filename,'w')\n",
    "    for i in range(10):+\n",
    "        f.write('this is %d line ' % i)\n",
    "        print(\"file is created and data is written\")\n",
    "        return\n",
    "createfile('file.txt')"
   ]
  },
  {
   "cell_type": "code",
   "execution_count": 3,
   "metadata": {
    "scrolled": true
   },
   "outputs": [
    {
     "name": "stdout",
     "output_type": "stream",
     "text": [
      " Volume in drive C has no label.\n",
      " Volume Serial Number is 009C-DE13\n",
      "\n",
      " Directory of C:\\Users\\student.150-PC\n",
      "\n",
      "11-07-2019  03:13    <DIR>          .\n",
      "11-07-2019  03:13    <DIR>          ..\n",
      "21-06-2019  05:55    <DIR>          .anaconda\n",
      "19-06-2019  11:06                40 .bash_history\n",
      "22-06-2019  09:15    <DIR>          .conda\n",
      "22-06-2019  03:11                43 .condarc\n",
      "29-06-2019  04:17    <DIR>          .idlerc\n",
      "11-07-2019  02:45    <DIR>          .ipynb_checkpoints\n",
      "21-06-2019  05:59    <DIR>          .ipython\n",
      "21-06-2019  08:04    <DIR>          .jupyter\n",
      "22-06-2019  03:13    <DIR>          .matplotlib\n",
      "22-06-2019  03:13    <DIR>          .spyder-py3\n",
      "06-07-2019  03:37             1,893 06- july 2019.ipynb\n",
      "08-07-2019  09:38             9,739 08 july 2019.ipynb\n",
      "09-07-2019  09:30            16,326 09 july 19.ipynb\n",
      "10-07-2019  04:26             7,204 10 july 19.ipynb\n",
      "11-07-2019  03:13             1,075 11 july 19.ipynb\n",
      "29-06-2019  04:02    <DIR>          221810304048\n",
      "06-07-2019  06:38             4,642 6th july 2019.ipynb\n",
      "21-06-2019  05:34    <DIR>          Anaconda3\n",
      "10-07-2019  09:40             5,713 assg 10 july.ipynb\n",
      "09-07-2019  10:47             2,021 assisment.ipynb\n",
      "18-06-2019  02:51    <DIR>          Contacts\n",
      "08-07-2019  05:53    <DIR>          Desktop\n",
      "06-07-2019  03:48    <DIR>          Documents\n",
      "10-07-2019  10:17    <DIR>          Downloads\n",
      "18-06-2019  02:52    <DIR>          Favorites\n",
      "11-07-2019  03:12                15 file.txt\n",
      "18-06-2019  02:51    <DIR>          Links\n",
      "18-06-2019  02:51    <DIR>          Music\n",
      "18-06-2019  02:51    <DIR>          Pictures\n",
      "18-06-2019  02:51    <DIR>          Saved Games\n",
      "04-07-2019  09:36    <DIR>          Searches\n",
      "22-06-2019  08:12                72 Untitled.ipynb\n",
      "22-06-2019  09:27               555 Untitled1.ipynb\n",
      "25-06-2019  10:59               555 Untitled2.ipynb\n",
      "18-06-2019  02:51    <DIR>          Videos\n",
      "              14 File(s)         49,893 bytes\n",
      "              23 Dir(s)  66,539,597,824 bytes free\n"
     ]
    }
   ],
   "source": [
    "ls"
   ]
  },
  {
   "cell_type": "code",
   "execution_count": 5,
   "metadata": {},
   "outputs": [
    {
     "ename": "SyntaxError",
     "evalue": "invalid syntax (<ipython-input-5-424924d7daf2>, line 2)",
     "output_type": "error",
     "traceback": [
      "\u001b[1;36m  File \u001b[1;32m\"<ipython-input-5-424924d7daf2>\"\u001b[1;36m, line \u001b[1;32m2\u001b[0m\n\u001b[1;33m    cat file.txt\u001b[0m\n\u001b[1;37m           ^\u001b[0m\n\u001b[1;31mSyntaxError\u001b[0m\u001b[1;31m:\u001b[0m invalid syntax\n"
     ]
    }
   ],
   "source": []
  },
  {
   "cell_type": "code",
   "execution_count": 13,
   "metadata": {},
   "outputs": [
    {
     "name": "stdout",
     "output_type": "stream",
     "text": [
      "file is created and data is written\n"
     ]
    }
   ],
   "source": [
    "def createfile(filename):\n",
    "    f=open(filename,'w')\n",
    "    f.write('testing...\\n')\n",
    "    print(\"file is created and data is written\")\n",
    "    return\n",
    "createfile('file.txt')"
   ]
  },
  {
   "cell_type": "code",
   "execution_count": 14,
   "metadata": {},
   "outputs": [
    {
     "name": "stdout",
     "output_type": "stream",
     "text": [
      "file is created and data is written\n"
     ]
    }
   ],
   "source": [
    "def appendfile(filename):\n",
    "    f=open(filename,'a')\n",
    "    f.write(\"new line 1 \\n\")\n",
    "    f.write(\"new line 2 \\n\")\n",
    "    print(\"file is created and data is written\")\n",
    "    return\n",
    "appendfile('file.txt')"
   ]
  },
  {
   "cell_type": "code",
   "execution_count": 15,
   "metadata": {},
   "outputs": [
    {
     "name": "stdout",
     "output_type": "stream",
     "text": [
      "testing...\n",
      "new line 1 \n",
      "new line 2 \n",
      "\n"
     ]
    }
   ],
   "source": [
    "def readfiledata(filename):\n",
    "    f=open(filename,'r')\n",
    "    if f.mode == 'r':\n",
    "        x=f.read()\n",
    "        print(x)\n",
    "    f.close()\n",
    "    return\n",
    "readfiledata('file.txt')"
   ]
  },
  {
   "cell_type": "code",
   "execution_count": 17,
   "metadata": {},
   "outputs": [
    {
     "name": "stdout",
     "output_type": "stream",
     "text": [
      "enter the file namedata\n",
      "enter the mode of the filea\n",
      "the data written successfully\n"
     ]
    }
   ],
   "source": [
    "def fileoper(filename,mmode):\n",
    "    with open(filename,mode) as f:\n",
    "        if f.mode =='r':\n",
    "            data=f.read()\n",
    "            print(data)\n",
    "        elif f.mode =='a':\n",
    "            f.write('data to the file')\n",
    "        \n",
    "            print('the data written successfully')\n",
    "        f.close()\n",
    "        return\n",
    "    \n",
    "filename = input('enter the file name')\n",
    "mode = input('enter the mode of the file')\n",
    "fileoper(filename,mode)"
   ]
  },
  {
   "cell_type": "code",
   "execution_count": 21,
   "metadata": {},
   "outputs": [
    {
     "name": "stdout",
     "output_type": "stream",
     "text": [
      "enter filenamefile.txt\n",
      "enter the wordtesting\n"
     ]
    },
    {
     "data": {
      "text/plain": [
       "0"
      ]
     },
     "execution_count": 21,
     "metadata": {},
     "output_type": "execute_result"
    }
   ],
   "source": [
    "def wordsearch(filename,word):\n",
    "    with open(filename,'r') as f:\n",
    "        if f.mode=='r':\n",
    "            x=f.read()\n",
    "            li =x.split()0 \n",
    "    cnt=li.count(word)\n",
    "    return cnt\n",
    "filename=input('enter filename')\n",
    "word=input('enter the word')\n",
    "wordsearch(filename,word)"
   ]
  },
  {
   "cell_type": "code",
   "execution_count": 22,
   "metadata": {},
   "outputs": [
    {
     "name": "stdout",
     "output_type": "stream",
     "text": [
      "enter the filename : file.txt\n"
     ]
    },
    {
     "data": {
      "text/plain": [
       "35"
      ]
     },
     "execution_count": 22,
     "metadata": {},
     "output_type": "execute_result"
    }
   ],
   "source": [
    "def charcount(filename):\n",
    "    with open (filename,'r') as f:\n",
    "        if f.mode=='r':\n",
    "            x=f.read()\n",
    "            li=list(x)\n",
    "        \n",
    "    return len(li)\n",
    "filename = input('enter the filename : ')\n",
    "charcount(filename)\n",
    "              "
   ]
  },
  {
   "cell_type": "code",
   "execution_count": 23,
   "metadata": {},
   "outputs": [
    {
     "name": "stdout",
     "output_type": "stream",
     "text": [
      "['Python Progr', 'mming']\n"
     ]
    }
   ],
   "source": [
    "s1=\"Python Programming\"\n",
    "print(s1.split('a'))\n"
   ]
  },
  {
   "cell_type": "code",
   "execution_count": 24,
   "metadata": {},
   "outputs": [
    {
     "name": "stdout",
     "output_type": "stream",
     "text": [
      "enter the file name :file.txt\n"
     ]
    },
    {
     "data": {
      "text/plain": [
       "4"
      ]
     },
     "execution_count": 24,
     "metadata": {},
     "output_type": "execute_result"
    }
   ],
   "source": [
    "def countline(filename):\n",
    "    with open(filename,'r') as f:\n",
    "        if f.mode == 'r':\n",
    "            x= f.read()\n",
    "            li =x.split(\"\\n\")\n",
    "    return len(li)\n",
    "\n",
    "filename =input('enter the file name :')\n",
    "countline(filename)"
   ]
  },
  {
   "cell_type": "code",
   "execution_count": 2,
   "metadata": {},
   "outputs": [
    {
     "name": "stdout",
     "output_type": "stream",
     "text": [
      "enter the file name: file.txt\n"
     ]
    },
    {
     "data": {
      "text/plain": [
       "'uppercase =0 and lowercase =0'"
      ]
     },
     "execution_count": 2,
     "metadata": {},
     "output_type": "execute_result"
    }
   ],
   "source": [
    "def caseCount(filename):\n",
    "        cntupper =0\n",
    "        cntlower =0\n",
    "        with open(filename, 'r') as f:\n",
    "            if f.mode == 'r':\n",
    "\n",
    "                x=f.read()\n",
    "                li=list(x)\n",
    "            for i in li:\n",
    "                if i.isupper():\n",
    "\n",
    "                    cntUpper += 1\n",
    "                elif i.islower():\n",
    "\n",
    "                    cntlower += 1 \n",
    "            output = 'uppercase ={0} and lowercase ={0}'.format(cntupper,cntlower)\n",
    "        return output\n",
    "\n",
    "filename=input(\"enter the file name: \")\n",
    "caseCount(filename)\n"
   ]
  },
  {
   "cell_type": "code",
   "execution_count": null,
   "metadata": {},
   "outputs": [],
   "source": []
  },
  {
   "cell_type": "code",
   "execution_count": 4,
   "metadata": {},
   "outputs": [
    {
     "ename": "FileNotFoundError",
     "evalue": "[WinError 3] The system cannot find the path specified: 'Git/'",
     "output_type": "error",
     "traceback": [
      "\u001b[1;31m---------------------------------------------------------------------------\u001b[0m",
      "\u001b[1;31mFileNotFoundError\u001b[0m                         Traceback (most recent call last)",
      "\u001b[1;32m<ipython-input-4-0ec482b641bb>\u001b[0m in \u001b[0;36m<module>\u001b[1;34m\u001b[0m\n\u001b[0;32m      1\u001b[0m \u001b[1;32mimport\u001b[0m \u001b[0mos\u001b[0m\u001b[1;33m\u001b[0m\u001b[1;33m\u001b[0m\u001b[0m\n\u001b[1;32m----> 2\u001b[1;33m \u001b[0mli\u001b[0m\u001b[1;33m=\u001b[0m \u001b[0mos\u001b[0m\u001b[1;33m.\u001b[0m\u001b[0mscandir\u001b[0m\u001b[1;33m(\u001b[0m\u001b[1;34m'Git/'\u001b[0m\u001b[1;33m)\u001b[0m\u001b[1;33m\u001b[0m\u001b[1;33m\u001b[0m\u001b[0m\n\u001b[0m\u001b[0;32m      3\u001b[0m \u001b[1;32mfor\u001b[0m \u001b[0mi\u001b[0m \u001b[1;32min\u001b[0m \u001b[0mli\u001b[0m\u001b[1;33m:\u001b[0m\u001b[1;33m\u001b[0m\u001b[1;33m\u001b[0m\u001b[0m\n\u001b[0;32m      4\u001b[0m     \u001b[0mprint\u001b[0m\u001b[1;33m(\u001b[0m\u001b[0mi\u001b[0m\u001b[1;33m)\u001b[0m\u001b[1;33m\u001b[0m\u001b[1;33m\u001b[0m\u001b[0m\n",
      "\u001b[1;31mFileNotFoundError\u001b[0m: [WinError 3] The system cannot find the path specified: 'Git/'"
     ]
    }
   ],
   "source": [
    "import os\n",
    "li= os.scandir('Git/')\n",
    "for i in li:\n",
    "    print(i)"
   ]
  },
  {
   "cell_type": "code",
   "execution_count": 5,
   "metadata": {},
   "outputs": [],
   "source": [
    "import os\n",
    "os.mkdir('single directory')"
   ]
  },
  {
   "cell_type": "code",
   "execution_count": 6,
   "metadata": {},
   "outputs": [],
   "source": [
    "import pathlib\n",
    "p=pathlib.Path('test folder')\n",
    "p.mkdir()"
   ]
  },
  {
   "cell_type": "code",
   "execution_count": 11,
   "metadata": {},
   "outputs": [
    {
     "name": "stdout",
     "output_type": "stream",
     "text": [
      "dedeepya\n"
     ]
    }
   ],
   "source": [
    "print(\"dedeepya\")"
   ]
  },
  {
   "cell_type": "code",
   "execution_count": 13,
   "metadata": {
    "scrolled": false
   },
   "outputs": [
    {
     "name": "stdout",
     "output_type": "stream",
     "text": [
      " Volume in drive C has no label.\n",
      " Volume Serial Number is 009C-DE13\n",
      "\n",
      " Directory of C:\\Users\\student.150-PC\n",
      "\n",
      "11-07-2019  08:59    <DIR>          .\n",
      "11-07-2019  08:59    <DIR>          ..\n",
      "21-06-2019  05:55    <DIR>          .anaconda\n",
      "19-06-2019  11:06                40 .bash_history\n",
      "22-06-2019  09:15    <DIR>          .conda\n",
      "22-06-2019  03:11                43 .condarc\n",
      "29-06-2019  04:17    <DIR>          .idlerc\n",
      "11-07-2019  02:45    <DIR>          .ipynb_checkpoints\n",
      "21-06-2019  05:59    <DIR>          .ipython\n",
      "21-06-2019  08:04    <DIR>          .jupyter\n",
      "22-06-2019  03:13    <DIR>          .matplotlib\n",
      "22-06-2019  03:13    <DIR>          .spyder-py3\n",
      "06-07-2019  03:37             1,893 06- july 2019.ipynb\n",
      "08-07-2019  09:38             9,739 08 july 2019.ipynb\n",
      "09-07-2019  09:30            16,326 09 july 19.ipynb\n",
      "10-07-2019  04:26             7,204 10 july 19.ipynb\n",
      "11-07-2019  08:59            13,602 11 july 19.ipynb\n",
      "29-06-2019  04:02    <DIR>          221810304048\n",
      "06-07-2019  06:38             4,642 6th july 2019.ipynb\n",
      "21-06-2019  05:34    <DIR>          Anaconda3\n",
      "10-07-2019  09:40             5,713 assg 10 july.ipynb\n",
      "09-07-2019  10:47             2,021 assisment.ipynb\n",
      "18-06-2019  02:51    <DIR>          Contacts\n",
      "11-07-2019  04:02                32 data\n",
      "08-07-2019  05:53    <DIR>          Desktop\n",
      "06-07-2019  03:48    <DIR>          Documents\n",
      "10-07-2019  10:17    <DIR>          Downloads\n",
      "18-06-2019  02:52    <DIR>          Favorites\n",
      "11-07-2019  03:53                38 file.txt\n",
      "18-06-2019  02:51    <DIR>          Links\n",
      "18-06-2019  02:51    <DIR>          Music\n",
      "18-06-2019  02:51    <DIR>          Pictures\n",
      "18-06-2019  02:51    <DIR>          Saved Games\n",
      "04-07-2019  09:36    <DIR>          Searches\n",
      "11-07-2019  08:38    <DIR>          single directory\n",
      "11-07-2019  08:39    <DIR>          test folder\n",
      "22-06-2019  08:12                72 Untitled.ipynb\n",
      "22-06-2019  09:27               555 Untitled1.ipynb\n",
      "25-06-2019  10:59               555 Untitled2.ipynb\n",
      "18-06-2019  02:51    <DIR>          Videos\n",
      "              15 File(s)         62,475 bytes\n",
      "              25 Dir(s)  66,262,941,696 bytes free\n"
     ]
    }
   ],
   "source": [
    "ls"
   ]
  },
  {
   "cell_type": "code",
   "execution_count": null,
   "metadata": {},
   "outputs": [],
   "source": []
  },
  {
   "cell_type": "code",
   "execution_count": null,
   "metadata": {},
   "outputs": [],
   "source": []
  },
  {
   "cell_type": "code",
   "execution_count": null,
   "metadata": {},
   "outputs": [],
   "source": []
  },
  {
   "cell_type": "code",
   "execution_count": null,
   "metadata": {},
   "outputs": [],
   "source": []
  }
 ],
 "metadata": {
  "kernelspec": {
   "display_name": "Python 3",
   "language": "python",
   "name": "python3"
  },
  "language_info": {
   "codemirror_mode": {
    "name": "ipython",
    "version": 3
   },
   "file_extension": ".py",
   "mimetype": "text/x-python",
   "name": "python",
   "nbconvert_exporter": "python",
   "pygments_lexer": "ipython3",
   "version": "3.7.3"
  }
 },
 "nbformat": 4,
 "nbformat_minor": 2
}
