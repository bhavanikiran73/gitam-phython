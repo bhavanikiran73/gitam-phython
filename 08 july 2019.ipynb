{
 "cells": [
  {
   "cell_type": "markdown",
   "metadata": {},
   "source": [
    "#find the factors of given number\n"
   ]
  },
  {
   "cell_type": "code",
   "execution_count": 8,
   "metadata": {},
   "outputs": [
    {
     "name": "stdout",
     "output_type": "stream",
     "text": [
      "1\n",
      "2\n",
      "3\n",
      "6\n",
      "9\n",
      "18\n",
      "27\n",
      "54\n"
     ]
    }
   ],
   "source": [
    "def factors(n):\n",
    "    for i in range(1,n+1):\n",
    "        if n%i==0:\n",
    "            print(i)\n",
    "    return\n",
    "factors(54)"
   ]
  },
  {
   "cell_type": "code",
   "execution_count": 9,
   "metadata": {},
   "outputs": [],
   "source": [
    "# given no. is prime no."
   ]
  },
  {
   "cell_type": "code",
   "execution_count": 16,
   "metadata": {},
   "outputs": [
    {
     "name": "stdout",
     "output_type": "stream",
     "text": [
      "not a prime\n"
     ]
    }
   ],
   "source": [
    "def prime(n):\n",
    "    k=0\n",
    "    for i in range(1,n+1):\n",
    "        if n%i==0:\n",
    "          k=k+1\n",
    "    if k<=2:\n",
    "        print(\"prime\")\n",
    "    else:\n",
    "        print(\"not a prime\")\n",
    "    return\n",
    "prime(10)"
   ]
  },
  {
   "cell_type": "markdown",
   "metadata": {},
   "source": [
    "# prime no.s from 1 to 10"
   ]
  },
  {
   "cell_type": "code",
   "execution_count": 21,
   "metadata": {},
   "outputs": [
    {
     "name": "stdout",
     "output_type": "stream",
     "text": [
      "2\n",
      "3\n",
      "5\n",
      "7\n"
     ]
    }
   ],
   "source": [
    "def primeno():\n",
    "    k=0\n",
    "    for i in range(2,10):\n",
    "        for j in range(1,i+1):\n",
    "            if i%j==0:\n",
    "                k=k+1\n",
    "        if k<=2:\n",
    "             print(i)\n",
    "        k=0\n",
    "    return\n",
    "primeno()\n",
    "    \n",
    "        \n",
    "            \n",
    "        "
   ]
  },
  {
   "cell_type": "code",
   "execution_count": 22,
   "metadata": {},
   "outputs": [],
   "source": [
    "# print factorial sum"
   ]
  },
  {
   "cell_type": "code",
   "execution_count": 29,
   "metadata": {},
   "outputs": [
    {
     "name": "stdout",
     "output_type": "stream",
     "text": [
      "no\n"
     ]
    }
   ],
   "source": [
    "def factorial(n):\n",
    "    k=n\n",
    "    f=1\n",
    "    s=0\n",
    "    r=0\n",
    "    while n<=0:\n",
    "        r=n%10\n",
    "        for i in range(1,r+1):\n",
    "            f=f*1\n",
    "        s=s+f\n",
    "        n=n//10\n",
    "    if s==k:\n",
    "        print(\"yes\")\n",
    "    else:\n",
    "        print(\"no\")\n",
    "    return\n",
    "factorial(145)\n",
    "    \n",
    "       "
   ]
  },
  {
   "cell_type": "code",
   "execution_count": 30,
   "metadata": {},
   "outputs": [],
   "source": [
    "## palindrome no.s in a given range"
   ]
  },
  {
   "cell_type": "code",
   "execution_count": null,
   "metadata": {},
   "outputs": [],
   "source": [
    "def palindrome(n):\n",
    "    s=0\n",
    "    k=n\n",
    "    r=0\n",
    "    f=0\n",
    "    while n>0:\n",
    "        r=r%10\n",
    "        s=s*10+r\n",
    "    return s\n",
    "def counpalin(n1,n2):\n",
    "    l=0\n",
    "    for i in range(n1,n2):\n",
    "        palindrome(i)\n",
    "        if s==i:\n",
    "            l=l+1\n",
    "    print(l)\n",
    "    return\n",
    "counpalin(1,10)"
   ]
  },
  {
   "cell_type": "code",
   "execution_count": null,
   "metadata": {},
   "outputs": [],
   "source": [
    " #print perfect no.\n"
   ]
  },
  {
   "cell_type": "code",
   "execution_count": null,
   "metadata": {},
   "outputs": [],
   "source": [
    "def factorlist(n):\n",
    "    s=0\n",
    "    for i in range(1,n//2+1):\n",
    "        if n%i==0:\n",
    "            s=s+i\n",
    "    return s\n",
    "def isperfect(n):\n",
    "    if factorlist(n) ==n:\n",
    "        return true\n",
    "    return false\n",
    "def generate(x,y):\n",
    "    for i in range(x,y+1):\n",
    "        if isperfect(x):\n",
    "            print(x)\n",
    "    return\n",
    "generate(1,10)\n"
   ]
  },
  {
   "cell_type": "code",
   "execution_count": 13,
   "metadata": {},
   "outputs": [
    {
     "name": "stdout",
     "output_type": "stream",
     "text": [
      "hytho\n",
      "n\n",
      "pyhn\n",
      "ptn\n"
     ]
    }
   ],
   "source": [
    "s1= 'phython'\n",
    "print(s1[1:-1])\n",
    "print(s1[len(s1)-1])\n",
    "print(s1[::2])\n",
    "print(s1[::3])\n",
    "    "
   ]
  },
  {
   "cell_type": "code",
   "execution_count": 14,
   "metadata": {},
   "outputs": [
    {
     "data": {
      "text/plain": [
       "'gnimmargorp'"
      ]
     },
     "execution_count": 14,
     "metadata": {},
     "output_type": "execute_result"
    }
   ],
   "source": [
    "def reverse(str):\n",
    "    return str[-1::-1]\n",
    "reverse(\"programming\")\n"
   ]
  },
  {
   "cell_type": "code",
   "execution_count": 20,
   "metadata": {},
   "outputs": [
    {
     "name": "stdout",
     "output_type": "stream",
     "text": [
      "False\n",
      "True\n"
     ]
    }
   ],
   "source": [
    "def pallindrome(str):\n",
    "    if str == str[::-1]:\n",
    "        return True\n",
    "    else:\n",
    "        return False        jukm, hgytq   nb\n",
    "    return\n",
    "print(pallindrome(\"python\"))\n",
    "print(pallindrome(\"dad\"))"
   ]
  },
  {
   "cell_type": "code",
   "execution_count": null,
   "metadata": {},
   "outputs": [],
   "source": []
  },
  {
   "cell_type": "code",
   "execution_count": 21,
   "metadata": {},
   "outputs": [
    {
     "ename": "SyntaxError",
     "evalue": "EOL while scanning string literal (<ipython-input-21-550a087d4ba8>, line 1)",
     "output_type": "error",
     "traceback": [
      "\u001b[1;36m  File \u001b[1;32m\"<ipython-input-21-550a087d4ba8>\"\u001b[1;36m, line \u001b[1;32m1\u001b[0m\n\u001b[1;33m    MNJKDCFV';\u001b[0m\n\u001b[1;37m              ^\u001b[0m\n\u001b[1;31mSyntaxError\u001b[0m\u001b[1;31m:\u001b[0m EOL while scanning string literal\n"
     ]
    }
   ],
   "source": [
    "MNJKDCFV';"
   ]
  },
  {
   "cell_type": "code",
   "execution_count": 22,
   "metadata": {},
   "outputs": [
    {
     "name": "stdout",
     "output_type": "stream",
     "text": [
      "null\n"
     ]
    }
   ],
   "source": [
    "def uppercase(x):\n",
    "    j=0\n",
    "    for i in range(len(x)):\n",
    "        if ord(x[i])>=65 and ord(x[i])<=90:\n",
    "            j=j+1\n",
    "    return j\n",
    "def lowercase(x):\n",
    "    k=0\n",
    "    for i in range(len(x)):\n",
    "        if ord(x[i])>=97 and ord(x[i])<=122:\n",
    "            k=k+1\n",
    "    return k\n",
    "def printl(x):\n",
    "    if uppercase(x)==lowercase(x):\n",
    "        print(x)\n",
    "    else:\n",
    "        print(\"null\")\n",
    "    return\n",
    "uppercase('pYThon')\n",
    "lowercase('pYThon')\n",
    "printl('pYThon')\n",
    "\n",
    "    \n",
    "    "
   ]
  },
  {
   "cell_type": "markdown",
   "metadata": {},
   "source": [
    "## extract digits from string"
   ]
  },
  {
   "cell_type": "code",
   "execution_count": 24,
   "metadata": {},
   "outputs": [
    {
     "name": "stdout",
     "output_type": "stream",
     "text": [
      "7\n",
      "3\n"
     ]
    }
   ],
   "source": [
    "def string(x):\n",
    "    l=len(x)\n",
    "    for i in range(0,l):\n",
    "        if ord(x[i])>=48 and ord(x[i])<=57:\n",
    "            print(x[i])\n",
    "    return\n",
    "string('bhavan73i')"
   ]
  },
  {
   "cell_type": "markdown",
   "metadata": {},
   "source": [
    "# sum of evendigits"
   ]
  },
  {
   "cell_type": "code",
   "execution_count": 33,
   "metadata": {},
   "outputs": [
    {
     "name": "stdout",
     "output_type": "stream",
     "text": [
      "7\n",
      "7\n"
     ]
    }
   ],
   "source": [
    "def strind(s):\n",
    "    sum=0\n",
    "    for x in range(len(str)):\n",
    "        if ord(str[x]) >=48 and ord(str[x]) <=57:\n",
    "            if (ord(str[x])-48) %2 == 0:\n",
    "                sum= sum+(ord(str[x]-48))\n",
    "    return sum\n",
    "string('kiran77sree')"
   ]
  },
  {
   "cell_type": "markdown",
   "metadata": {},
   "source": [
    "# sum of digits"
   ]
  },
  {
   "cell_type": "code",
   "execution_count": 35,
   "metadata": {},
   "outputs": [
    {
     "data": {
      "text/plain": [
       "10"
      ]
     },
     "execution_count": 35,
     "metadata": {},
     "output_type": "execute_result"
    }
   ],
   "source": [
    "def string(x):\n",
    "    s=0\n",
    "    l=len(x)\n",
    "    for i in range(0,l):\n",
    "        if ord(x[i])>=48 and ord(x[i])<=57:\n",
    "            s=s+(ord(x[i])-48)\n",
    "    return s\n",
    "string('bhavan73i')"
   ]
  },
  {
   "cell_type": "code",
   "execution_count": null,
   "metadata": {},
   "outputs": [],
   "source": [
    "def worduppercase(s):\n",
    "    spcnt=0\n",
    "    for x in range(len(s)):\n",
    "        if s[x]==32:\n",
    "            spcnt=spcnt+1\n",
    "        if spcnt ==1:\n",
    "            if ord()                                                                         \n",
    "        "
   ]
  }
 ],
 "metadata": {
  "kernelspec": {
   "display_name": "Python 3",
   "language": "python",
   "name": "python3"
  },
  "language_info": {
   "codemirror_mode": {
    "name": "ipython",
    "version": 3
   },
   "file_extension": ".py",
   "mimetype": "text/x-python",
   "name": "python",
   "nbconvert_exporter": "python",
   "pygments_lexer": "ipython3",
   "version": "3.7.3"
  }
 },
 "nbformat": 4,
 "nbformat_minor": 2
}
