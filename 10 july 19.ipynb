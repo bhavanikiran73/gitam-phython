{
 "cells": [
  {
   "cell_type": "markdown",
   "metadata": {},
   "source": [
    "### dictionaries\n",
    "- it works on the concept of set unique data\n",
    "- key,values is the unique identifier for a value\n",
    "- each key is seperated from its values with colon(:)\n",
    "- each key and value is seperated by coma(,)\n",
    "- dictionaries enclosed by curly brackets({})"
   ]
  },
  {
   "cell_type": "code",
   "execution_count": 2,
   "metadata": {},
   "outputs": [
    {
     "name": "stdout",
     "output_type": "stream",
     "text": [
      "{'name': 'gitam'}\n",
      "{'name': 'gitam', 'email': 'bhvnikiran@gmail.com', 'address': 'hyderabad'}\n",
      "{'email': 'bhvnikiran@gmail.com', 'address': 'hyderabad'}\n"
     ]
    }
   ],
   "source": [
    "d1={\"name\":\"gitam\"}\n",
    "print(d1)\n",
    "d2={\"name\":\"gitam\",\"email\":\"bhvnikiran@gmail.com\",\"address\":\"hyderabad\"}\n",
    "print(d2)\n",
    "del d2[\"name\"]\n",
    "print(d2)"
   ]
  },
  {
   "cell_type": "code",
   "execution_count": 4,
   "metadata": {},
   "outputs": [
    {
     "name": "stdout",
     "output_type": "stream",
     "text": [
      "{'name': 'gitam', 'email': 'bhvnikiran@r.com', 'address': 'hyderabad'}\n"
     ]
    },
    {
     "data": {
      "text/plain": [
       "{'email': 'bhvnikiran@r.com', 'address': 'hyderabad'}"
      ]
     },
     "execution_count": 4,
     "metadata": {},
     "output_type": "execute_result"
    }
   ],
   "source": [
    "d2={\"name\":\"gitam\",\"email\":\"bhvnikiran@gmail.com\",\"address\":\"hyderabad\"}\n",
    "d2[\"email\"] =\"bhvnikiran@r.com\"\n",
    "print(d2)\n",
    "\n",
    "del d2[\"name\"]\n",
    "d2"
   ]
  },
  {
   "cell_type": "code",
   "execution_count": 5,
   "metadata": {},
   "outputs": [
    {
     "data": {
      "text/plain": [
       "dict_values(['gitam', 'bhvnikiran@gmail.com', 'hyderabad'])"
      ]
     },
     "execution_count": 5,
     "metadata": {},
     "output_type": "execute_result"
    }
   ],
   "source": [
    "d2={\"name\":\"gitam\",\"email\":\"bhvnikiran@gmail.com\",\"address\":\"hyderabad\"}\n",
    "d2.values()"
   ]
  },
  {
   "cell_type": "code",
   "execution_count": 6,
   "metadata": {},
   "outputs": [
    {
     "data": {
      "text/plain": [
       "dict_items([('name', 'gitam'), ('email', 'bhvnikiran@gmail.com'), ('address', 'hyderabad')])"
      ]
     },
     "execution_count": 6,
     "metadata": {},
     "output_type": "execute_result"
    }
   ],
   "source": [
    "d2.items()"
   ]
  },
  {
   "cell_type": "code",
   "execution_count": 7,
   "metadata": {},
   "outputs": [
    {
     "data": {
      "text/plain": [
       "dict_keys(['name', 'email', 'address'])"
      ]
     },
     "execution_count": 7,
     "metadata": {},
     "output_type": "execute_result"
    }
   ],
   "source": [
    "d2.keys()"
   ]
  },
  {
   "cell_type": "code",
   "execution_count": 19,
   "metadata": {},
   "outputs": [
    {
     "name": "stdout",
     "output_type": "stream",
     "text": [
      "contact details are added\n",
      "{'bhavani': '7799678433'}\n",
      "contact details are added\n",
      "{'bhavani': '7799678433', 'mom': '9440435901'}\n"
     ]
    }
   ],
   "source": [
    "# add contact\n",
    "contact = {}\n",
    "def addcnt(name,cnt):\n",
    "    if name not in contact:\n",
    "        contact[name]=cnt\n",
    "        print(\"contact details are added\")\n",
    "    else:\n",
    "        print(\"contact details exists\")\n",
    "    return\n",
    "addcnt('bhavani','7799678433')\n",
    "print(contact)\n",
    "addcnt('mom','9440435901')\n",
    "print(contact)"
   ]
  },
  {
   "cell_type": "code",
   "execution_count": 20,
   "metadata": {},
   "outputs": [
    {
     "name": "stdout",
     "output_type": "stream",
     "text": [
      "bhavani : 7799678433\n"
     ]
    }
   ],
   "source": [
    "# search contact\n",
    "def searchcontact(name):\n",
    "    if name in contact:\n",
    "        print(name,\":\",contact[name])\n",
    "    else:\n",
    "        print(\"%s does not exists\"% name)\n",
    "    return\n",
    "searchcontact('bhavani')"
   ]
  },
  {
   "cell_type": "code",
   "execution_count": 23,
   "metadata": {},
   "outputs": [
    {
     "name": "stdout",
     "output_type": "stream",
     "text": [
      "2 contacts added success\n"
     ]
    }
   ],
   "source": [
    "# import contact\n",
    "def importcontact(newcontact):\n",
    "    contact.update(newcontact)\n",
    "    print(len(newcontact.keys()),\"contacts added success\")\n",
    "    return\n",
    "newcontact= {'dinesh':388637837,'siri':5436789201}\n",
    "importcontact(newcontact)"
   ]
  },
  {
   "cell_type": "code",
   "execution_count": 24,
   "metadata": {},
   "outputs": [
    {
     "data": {
      "text/plain": [
       "{'bhavani': '7799678433',\n",
       " 'mom': '9440435901',\n",
       " 'dinesh': 388637837,\n",
       " 'siri': 5436789201}"
      ]
     },
     "execution_count": 24,
     "metadata": {},
     "output_type": "execute_result"
    }
   ],
   "source": [
    "contact"
   ]
  },
  {
   "cell_type": "code",
   "execution_count": 30,
   "metadata": {},
   "outputs": [
    {
     "name": "stdout",
     "output_type": "stream",
     "text": [
      "bhavani delete successfully\n"
     ]
    }
   ],
   "source": [
    "# delete a contact\n",
    "def deletecontact(name):\n",
    "    if name in contact:\n",
    "        \n",
    "        del contact[name]\n",
    "        print(name,\"delete successfully\")\n",
    "    else:\n",
    "        print(\"name doesnt exists\")\n",
    "    return\n",
    "deletecontact(\"bhavani\")\n",
    "    "
   ]
  },
  {
   "cell_type": "code",
   "execution_count": 33,
   "metadata": {},
   "outputs": [
    {
     "name": "stdout",
     "output_type": "stream",
     "text": [
      "mom updated succssfully\n"
     ]
    }
   ],
   "source": [
    "# update contacts\n",
    "def update(name,cnt):\n",
    "    if name in contact:\n",
    "        contact[name]=cnt\n",
    "        print(name,\"updated succssfully\")\n",
    "    else:\n",
    "        print(name,\"not found\")\n",
    "    return\n",
    "update(\"mom\",90008562)"
   ]
  },
  {
   "cell_type": "code",
   "execution_count": 34,
   "metadata": {},
   "outputs": [
    {
     "data": {
      "text/plain": [
       "{'mom': 90008562}"
      ]
     },
     "execution_count": 34,
     "metadata": {},
     "output_type": "execute_result"
    }
   ],
   "source": [
    "contact"
   ]
  },
  {
   "cell_type": "code",
   "execution_count": null,
   "metadata": {},
   "outputs": [],
   "source": []
  },
  {
   "cell_type": "code",
   "execution_count": null,
   "metadata": {},
   "outputs": [],
   "source": [
    "\n"
   ]
  }
 ],
 "metadata": {
  "kernelspec": {
   "display_name": "Python 3",
   "language": "python",
   "name": "python3"
  },
  "language_info": {
   "codemirror_mode": {
    "name": "ipython",
    "version": 3
   },
   "file_extension": ".py",
   "mimetype": "text/x-python",
   "name": "python",
   "nbconvert_exporter": "python",
   "pygments_lexer": "ipython3",
   "version": "3.7.3"
  }
 },
 "nbformat": 4,
 "nbformat_minor": 2
}
